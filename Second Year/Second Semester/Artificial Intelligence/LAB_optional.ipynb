{
  "cells": [
    {
      "cell_type": "markdown",
      "source": [
        "# REGRESSION\n",
        "\n",
        "Consider the following database from he UCI databases repository https://archive.ics.uci.edu/dataset/29/computer+hardware\n"
      ],
      "metadata": {}
    },
    {
      "cell_type": "code",
      "source": [
        "# install the  b package\n",
        "\n",
        "# !pip install ucimlrepo"
      ],
      "outputs": [],
      "execution_count": null,
      "metadata": {}
    },
    {
      "cell_type": "code",
      "source": [
        "from ucimlrepo import fetch_ucirepo \n",
        "  \n",
        "# fetch dataset \n",
        "computer_hardware = fetch_ucirepo(id=29) \n",
        "  \n",
        "# data (as pandas dataframes) \n",
        "X = computer_hardware.data.features \n",
        "y = computer_hardware.data.targets \n",
        "  \n",
        "# metadata \n",
        "print(computer_hardware.metadata) \n",
        "  \n",
        "# variable information \n",
        "print(computer_hardware.variables) \n"
      ],
      "outputs": [],
      "execution_count": null,
      "metadata": {}
    },
    {
      "cell_type": "markdown",
      "source": [
        "The content of the Database are:\n",
        "\n",
        "Features\n",
        "1. vendor name: 30 \n",
        "      (adviser, amdahl,apollo, basf, bti, burroughs, c.r.d, cambex, cdc, dec, \n",
        "       dg, formation, four-phase, gould, honeywell, hp, ibm, ipl, magnuson, \n",
        "       microdata, nas, ncr, nixdorf, perkin-elmer, prime, siemens, sperry, \n",
        "       sratus, wang)\n",
        "2. Model Name: many unique symbols\n",
        "3. MYCT: machine cycle time in nanoseconds (integer)\n",
        "4. MMIN: minimum main memory in kilobytes (integer)\n",
        "5. MMAX: maximum main memory in kilobytes (integer)\n",
        "6. CACH: cache memory in kilobytes (integer)\n",
        "7. CHMIN: minimum channels in units (integer)\n",
        "8. CHMAX: maximum channels in units (integer)\n",
        "\n",
        "Target \n",
        "\n",
        "9. PRP: published relative performance (integer)\n",
        "10. ERP: estimated relative performance from the original article (integer)\n",
        "\n",
        "\n",
        "Perform a regression using ANNs on the 1-8 features and compare your results with each of the target values. \n"
      ],
      "metadata": {}
    },
    {
      "cell_type": "code",
      "source": [],
      "outputs": [],
      "execution_count": null,
      "metadata": {}
    }
  ],
  "metadata": {
    "kernelspec": {
      "display_name": "workAI",
      "language": "python",
      "name": "python3"
    },
    "language_info": {
      "codemirror_mode": {
        "name": "ipython",
        "version": 3
      },
      "file_extension": ".py",
      "mimetype": "text/x-python",
      "name": "python",
      "nbconvert_exporter": "python",
      "pygments_lexer": "ipython3",
      "version": "3.10.10"
    },
    "nteract": {
      "version": "nteract-front-end@1.0.0"
    }
  },
  "nbformat": 4,
  "nbformat_minor": 2
}