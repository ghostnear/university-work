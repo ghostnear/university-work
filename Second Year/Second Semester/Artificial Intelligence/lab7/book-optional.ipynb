{
 "cells": [
  {
   "cell_type": "markdown",
   "id": "980cdd54-5e95-4553-84bd-e6b2b7c96d61",
   "metadata": {},
   "source": [
    "## Gradients in torch recap"
   ]
  },
  {
   "cell_type": "code",
   "execution_count": 2,
   "id": "2fe9daeb-8ecf-4f4c-9e2c-0ed6b9170db7",
   "metadata": {},
   "outputs": [],
   "source": [
    "import math\n",
    "import numpy as np\n",
    "import matplotlib.pyplot as plt\n",
    "%matplotlib inline"
   ]
  },
  {
   "cell_type": "markdown",
   "id": "93769006-ec07-4c47-b2b6-998401f4b19b",
   "metadata": {},
   "source": [
    "## Simple derivative:\n",
    "### Let's define a random function"
   ]
  },
  {
   "cell_type": "code",
   "execution_count": 3,
   "id": "ee764a0a-f4a1-4fe6-8ae0-c3de373a609f",
   "metadata": {},
   "outputs": [],
   "source": [
    "def f(x):\n",
    "  return 3*x**2 - 2*x + 1"
   ]
  },
  {
   "cell_type": "code",
   "execution_count": 4,
   "id": "6f5031f7-d357-42ad-ac49-bfae78f3ca94",
   "metadata": {},
   "outputs": [
    {
     "data": {
      "text/plain": [
       "22.0"
      ]
     },
     "execution_count": 4,
     "metadata": {},
     "output_type": "execute_result"
    }
   ],
   "source": [
    "f(3.0)"
   ]
  },
  {
   "cell_type": "code",
   "execution_count": 5,
   "id": "cedd7f8c-ec5d-4c6e-b3a0-008a6b3605ab",
   "metadata": {},
   "outputs": [
    {
     "data": {
      "text/plain": [
       "[<matplotlib.lines.Line2D at 0x29aa9b3aa90>]"
      ]
     },
     "execution_count": 5,
     "metadata": {},
     "output_type": "execute_result"
    },
    {
     "data": {
      "image/png": "[encoded data removed]",
      "text/plain": [
       "<Figure size 640x480 with 1 Axes>"
      ]
     },
     "metadata": {},
     "output_type": "display_data"
    }
   ],
   "source": [
    "xs = np.arange(-5, 5, 0.25)\n",
    "ys = f(xs)\n",
    "plt.plot(xs, ys)"
   ]
  },
  {
   "cell_type": "markdown",
   "id": "79a6ea90-f10e-4db0-88ac-3cf9677dbf96",
   "metadata": {},
   "source": [
    "##### What is the derivative of this function ?\n",
    "##### Recall high scholl calculus or https://en.wikipedia.org/wiki/Derivative\n",
    "\n",
    "Derivatives represent the rate of change or slope of a function at a particular point. They are used extensively in machine learning, deep learning, and optimization problems to optimize the parameters of a model. In simple terms, the derivative of a function tells us how much the output of the function changes with respect to its input.\n",
    "\n",
    "The derivative of a function f(x) at a point x is defined as the limit of the difference quotient as h approaches zero:\n",
    "\n",
    "$$f'(x) = \\lim_{h\\to0} \\frac{f(x+h)-f(x)}{h}$$\n",
    "\n",
    "We can approximate the derivative of a function at a point x by choosing a small value of h and calculating the difference quotient. This approximation becomes more accurate as we decrease the value of h. In PyTorch, we can use the torch.autograd package to calculate the derivatives of a function automatically."
   ]
  },
  {
   "cell_type": "code",
   "execution_count": 6,
   "id": "eb28e7ec-f4f6-4156-bf3d-8486a7322721",
   "metadata": {},
   "outputs": [
    {
     "name": "stdout",
     "output_type": "stream",
     "text": [
      "Slope or derivative 16.00300000000132\n"
     ]
    }
   ],
   "source": [
    "h=0.001\n",
    "x=3.0\n",
    "deriv = (f(x+h) - f(x))/h # Numerical aproximation of the slope\n",
    "print(\"Slope or derivative\",deriv)"
   ]
  },
  {
   "cell_type": "markdown",
   "id": "b21bc3e9-d473-429b-bfe9-d182f9bdfba7",
   "metadata": {},
   "source": [
    "##### What does derivative of 0 means ?\n",
    "##### A: Basically the slope is 0"
   ]
  },
  {
   "cell_type": "markdown",
   "id": "50a4e75d-a584-4cb8-8b8a-5dff1e9c466a",
   "metadata": {},
   "source": [
    "### Multi variable derivatives (We don't have just x but rather x,y,z variables)"
   ]
  },
  {
   "cell_type": "code",
   "execution_count": 7,
   "id": "eba0e0ac-3591-419e-8df8-0cdcdfb0b982",
   "metadata": {},
   "outputs": [
    {
     "name": "stdout",
     "output_type": "stream",
     "text": [
      "4.0\n"
     ]
    }
   ],
   "source": [
    "# les get more complex\n",
    "a = 2.0\n",
    "b = -3.0\n",
    "c = 10.0\n",
    "d = a*b + c\n",
    "print(d)"
   ]
  },
  {
   "cell_type": "code",
   "execution_count": 8,
   "id": "d9cea278-7704-4ec5-82f2-242c97cb365a",
   "metadata": {},
   "outputs": [
    {
     "name": "stdout",
     "output_type": "stream",
     "text": [
      "d1 4.0\n",
      "d2 4.0001\n",
      "slope 0.9999999999976694\n"
     ]
    }
   ],
   "source": [
    "h = 0.0001\n",
    "\n",
    "# inputs\n",
    "a = 2.0\n",
    "b = -3.0\n",
    "c = 10.0\n",
    "\n",
    "d1 = a*b + c\n",
    "c += h\n",
    "d2 = a*b + c\n",
    "\n",
    "print('d1', d1)\n",
    "print('d2', d2)\n",
    "print('slope', (d2 - d1)/h)"
   ]
  },
  {
   "cell_type": "code",
   "execution_count": 9,
   "id": "5457e2cd-7559-4daf-85da-feef4ede210e",
   "metadata": {},
   "outputs": [],
   "source": [
    "#Let's look at a negative slope"
   ]
  },
  {
   "cell_type": "code",
   "execution_count": 10,
   "id": "22b8e4fa-bbed-440c-bcbc-ed0acb4adcc1",
   "metadata": {},
   "outputs": [
    {
     "name": "stdout",
     "output_type": "stream",
     "text": [
      "d1 4.0\n",
      "d2 3.999699999999999\n",
      "slope -3.000000000010772\n"
     ]
    }
   ],
   "source": [
    "h = 0.0001\n",
    "\n",
    "# inputs\n",
    "a = 2.0\n",
    "b = -3.0\n",
    "c = 10.0\n",
    "\n",
    "d1 = a*b + c\n",
    "a += h # Where we add a bit a.k.a derivate\n",
    "d2 = a*b + c\n",
    "\n",
    "print('d1', d1)\n",
    "print('d2', d2)\n",
    "print('slope', (d2 - d1)/h)"
   ]
  },
  {
   "cell_type": "code",
   "execution_count": 11,
   "id": "7827781f-8aa3-4fde-8b5f-9c8bb62bb485",
   "metadata": {},
   "outputs": [],
   "source": [
    "# What did we change ? \n",
    "# A : The variable in respect to which we compute the derivative"
   ]
  },
  {
   "cell_type": "markdown",
   "id": "e59fb1ab-db93-4ce3-9002-2c487bf3cb05",
   "metadata": {
    "tags": []
   },
   "source": [
    "### Here is how pytorch computes the slopes/aka \"gradients\""
   ]
  },
  {
   "cell_type": "code",
   "execution_count": 12,
   "id": "d320c03c-5d75-48b2-8983-7a85d0d81335",
   "metadata": {},
   "outputs": [
    {
     "name": "stdout",
     "output_type": "stream",
     "text": [
      "tensor([9.], grad_fn=<AddBackward0>)\n",
      "tensor([6.])\n"
     ]
    }
   ],
   "source": [
    "import torch\n",
    "\n",
    "# Define a function\n",
    "def f(x):\n",
    "    return x**2 + 2*x + 1\n",
    "\n",
    "# Define an input tensor\n",
    "x = torch.tensor([2.0], requires_grad=True)\n",
    "\n",
    "# Evaluate the function\n",
    "y = f(x)\n",
    "\n",
    "# Calculate the derivative of the function with respect to x\n",
    "y.backward()\n",
    "\n",
    "print(y)\n",
    "\n",
    "# Print the derivative\n",
    "print(x.grad)"
   ]
  },
  {
   "cell_type": "code",
   "execution_count": 12,
   "id": "e1c30782-5d72-4857-aff2-699e5d71dea8",
   "metadata": {},
   "outputs": [],
   "source": [
    "### Let's dive deeeper how the autograd function works"
   ]
  },
  {
   "cell_type": "code",
   "execution_count": 13,
   "id": "776f94a5-94fb-49d4-8035-1f739b1aac8a",
   "metadata": {},
   "outputs": [],
   "source": [
    "\n",
    "class Value:\n",
    "  \n",
    "  def __init__(self, data, _children=(), _op='', label=''):\n",
    "    self.data = data\n",
    "\n",
    "  def __repr__(self):\n",
    "    return f\"Value(data={self.data})\""
   ]
  },
  {
   "cell_type": "code",
   "execution_count": 14,
   "id": "70348de0-d678-4d0c-83b1-07a2d9d12164",
   "metadata": {},
   "outputs": [],
   "source": [
    "a = Value(2.0)\n",
    "b = Value(-3.0)"
   ]
  },
  {
   "cell_type": "code",
   "execution_count": 15,
   "id": "eea7a276-141f-4580-aebd-8ed9455d32d7",
   "metadata": {},
   "outputs": [
    {
     "data": {
      "text/plain": [
       "Value(data=2.0)"
      ]
     },
     "execution_count": 15,
     "metadata": {},
     "output_type": "execute_result"
    }
   ],
   "source": [
    "a"
   ]
  },
  {
   "cell_type": "code",
   "execution_count": 16,
   "id": "f36964f4-d271-47c6-b0c7-2da12b15628e",
   "metadata": {},
   "outputs": [
    {
     "data": {
      "text/plain": [
       "Value(data=-3.0)"
      ]
     },
     "execution_count": 16,
     "metadata": {},
     "output_type": "execute_result"
    }
   ],
   "source": [
    "b"
   ]
  },
  {
   "cell_type": "code",
   "execution_count": 17,
   "id": "d106590b-2042-4358-b742-35a03d0ca633",
   "metadata": {},
   "outputs": [],
   "source": [
    "# We want to make make an adition of values "
   ]
  },
  {
   "cell_type": "code",
   "execution_count": 18,
   "id": "fae72878-3106-4ab0-a608-5a68587db805",
   "metadata": {},
   "outputs": [
    {
     "ename": "TypeError",
     "evalue": "unsupported operand type(s) for +: 'Value' and 'Value'",
     "output_type": "error",
     "traceback": [
      "\u001b[1;31m---------------------------------------------------------------------------\u001b[0m",
      "\u001b[1;31mTypeError\u001b[0m                                 Traceback (most recent call last)",
      "Cell \u001b[1;32mIn[18], line 1\u001b[0m\n\u001b[1;32m----> 1\u001b[0m \u001b[43ma\u001b[49m\u001b[38;5;241;43m+\u001b[39;49m\u001b[43mb\u001b[49m\n",
      "\u001b[1;31mTypeError\u001b[0m: unsupported operand type(s) for +: 'Value' and 'Value'"
     ]
    }
   ],
   "source": [
    "a+b"
   ]
  },
  {
   "cell_type": "code",
   "execution_count": null,
   "id": "9c90aeb8-b638-4c2e-b342-2c568d0afa26",
   "metadata": {},
   "outputs": [],
   "source": [
    "# As such we must modifiy the class"
   ]
  },
  {
   "cell_type": "code",
   "execution_count": 19,
   "id": "f43cea1e-d3a5-4c38-9a98-8de81b36dad6",
   "metadata": {},
   "outputs": [],
   "source": [
    "class Value:\n",
    "  \n",
    "    def __init__(self, data, _children=(), _op='', label=''):\n",
    "        self.data = data\n",
    "\n",
    "    def __repr__(self):\n",
    "        return f\"Value(data={self.data})\"\n",
    "\n",
    "    def __add__(self, other):\n",
    "        out = Value(self.data + other.data, (self, other), '+')\n",
    "        return out\n",
    "    \n",
    "    def __mul__(self, other):\n",
    "        out = Value(self.data * other.data, (self, other), '*')\n",
    "        return out\n"
   ]
  },
  {
   "cell_type": "code",
   "execution_count": 20,
   "id": "0d26c887-fd80-44bf-8ed1-097c65f40eb9",
   "metadata": {},
   "outputs": [
    {
     "data": {
      "text/plain": [
       "Value(data=-1.0)"
      ]
     },
     "execution_count": 20,
     "metadata": {},
     "output_type": "execute_result"
    }
   ],
   "source": [
    "a = Value(2.0)\n",
    "b = Value(-3.0)\n",
    "c= Value(10.0)\n",
    "a+b\n"
   ]
  },
  {
   "cell_type": "code",
   "execution_count": 21,
   "id": "c8a42ac0-582c-476c-8b21-36c06d5f8e86",
   "metadata": {},
   "outputs": [],
   "source": [
    "d= a*b + c"
   ]
  },
  {
   "cell_type": "code",
   "execution_count": 22,
   "id": "3ac634c9-9dc3-46a6-a54c-ad49784316a9",
   "metadata": {},
   "outputs": [],
   "source": [
    "# Code to vizualize the connections between operations"
   ]
  },
  {
   "cell_type": "code",
   "execution_count": 23,
   "id": "e91c6e4b-49b4-47b8-aa81-fa7128d6f189",
   "metadata": {},
   "outputs": [],
   "source": [
    "class Value:\n",
    "  \n",
    "    def __init__(self, data, _children=(), _op='', label=''):\n",
    "        self.data = data\n",
    "        self._prev = set(_children)  # We added this to remember the previous operation\n",
    "        self._op = _op # We added this so the drawing works\n",
    "        self.label = label\n",
    "        self.grad = 0.0\n",
    " \n",
    "    def __repr__(self):\n",
    "        return f\"Value(data={self.data})\"\n",
    "\n",
    "    def __add__(self, other):\n",
    "        out = Value(self.data + other.data, (self, other), '+')\n",
    "        return out\n",
    "    \n",
    "    def __mul__(self, other):\n",
    "        out = Value(self.data * other.data, (self, other), '*')\n",
    "        return out"
   ]
  },
  {
   "cell_type": "code",
   "execution_count": 24,
   "id": "22c38005-f9db-4b18-a9d5-fdf9034858e3",
   "metadata": {},
   "outputs": [],
   "source": [
    "a = Value(2.0)\n",
    "b = Value(-3.0)\n",
    "c = Value(10.0)"
   ]
  },
  {
   "cell_type": "code",
   "execution_count": 25,
   "id": "b1c9b817-d464-4f48-8d77-87111f4e5bb9",
   "metadata": {},
   "outputs": [],
   "source": [
    "d = a * b + c"
   ]
  },
  {
   "cell_type": "code",
   "execution_count": 26,
   "id": "b2ff28de-a9a2-4139-b100-e57d98f2d36c",
   "metadata": {},
   "outputs": [
    {
     "data": {
      "text/plain": [
       "Value(data=2.0)"
      ]
     },
     "execution_count": 26,
     "metadata": {},
     "output_type": "execute_result"
    }
   ],
   "source": [
    "a"
   ]
  },
  {
   "cell_type": "code",
   "execution_count": 27,
   "id": "d4172d87-6070-469f-93c0-f4396d00f9bb",
   "metadata": {},
   "outputs": [
    {
     "data": {
      "text/plain": [
       "Value(data=4.0)"
      ]
     },
     "execution_count": 27,
     "metadata": {},
     "output_type": "execute_result"
    }
   ],
   "source": [
    "d"
   ]
  },
  {
   "cell_type": "code",
   "execution_count": 78,
   "id": "80768c9d-ec10-45df-afc6-55ab146267c8",
   "metadata": {},
   "outputs": [],
   "source": [
    "#!conda install -c anaconda graphviz -y"
   ]
  },
  {
   "cell_type": "code",
   "execution_count": 28,
   "id": "a711040d-dc52-439f-bba3-ad2371a2c7df",
   "metadata": {},
   "outputs": [],
   "source": [
    "from graphviz import Digraph\n",
    "\n",
    "def trace(root):\n",
    "    # builds a set of all nodes and edges in a graph\n",
    "    nodes, edges = set(), set()\n",
    "    def build(v):\n",
    "        if v not in nodes:\n",
    "            nodes.add(v)\n",
    "            for child in v._prev:\n",
    "                edges.add((child, v))\n",
    "                build(child)\n",
    "    build(root)\n",
    "    return nodes, edges\n",
    "\n",
    "def draw_dot(root):\n",
    "    dot = Digraph(format='svg', graph_attr={'rankdir': 'LR'}) # LR = left to right\n",
    "\n",
    "    nodes, edges = trace(root)\n",
    "    for n in nodes:\n",
    "        uid = str(id(n))\n",
    "        # for any value in the graph, create a rectangular ('record') node for it\n",
    "        dot.node(name = uid, label = \"{ %s | data %.4f | grad %.4f }\" % (n.label, n.data, n.grad), shape='record')\n",
    "        if n._op:\n",
    "          # if this value is a result of some operation, create an op node for it\n",
    "          dot.node(name = uid + n._op, label = n._op)\n",
    "          # and connect this node to it\n",
    "          dot.edge(uid + n._op, uid)\n",
    "\n",
    "    for n1, n2 in edges:\n",
    "        # connect n1 to the op node of n2\n",
    "        dot.edge(str(id(n1)), str(id(n2)) + n2._op)\n",
    "\n",
    "    return dot\n"
   ]
  },
  {
   "cell_type": "code",
   "execution_count": 29,
   "id": "c0d92c34-62f9-4a84-b9d8-980543900754",
   "metadata": {},
   "outputs": [
    {
     "data": {
      "image/svg+xml": [
       "<?xml version=\"1.0\" encoding=\"UTF-8\" standalone=\"no\"?>\n",
       "<!DOCTYPE svg PUBLIC \"-//W3C//DTD SVG 1.1//EN\"\n",
       " \"http://www.w3.org/Graphics/SVG/1.1/DTD/svg11.dtd\">\n",
       "<!-- Generated by graphviz version 2.50.0 (0)\n",
       " -->\n",
       "<!-- Pages: 1 -->\n",
       "<svg width=\"818pt\" height=\"128pt\"\n",
       " viewBox=\"0.00 0.00 818.00 128.00\" xmlns=\"http://www.w3.org/2000/svg\" xmlns:xlink=\"http://www.w3.org/1999/xlink\">\n",
       "<g id=\"graph0\" class=\"graph\" transform=\"scale(1 1) rotate(0) translate(4 124)\">\n",
       "<polygon fill=\"white\" stroke=\"transparent\" points=\"-4,4 -4,-124 814,-124 814,4 -4,4\"/>\n",
       "<!-- 2863443480688 -->\n",
       "<g id=\"node1\" class=\"node\">\n",
       "<title>2863443480688</title>\n",
       "<polygon fill=\"none\" stroke=\"black\" points=\"2.5,-83.5 2.5,-119.5 184.5,-119.5 184.5,-83.5 2.5,-83.5\"/>\n",
       "<text text-anchor=\"middle\" x=\"12.5\" y=\"-97.8\" font-family=\"Times New Roman,serif\" font-size=\"14.00\"> </text>\n",
       "<polyline fill=\"none\" stroke=\"black\" points=\"22.5,-83.5 22.5,-119.5 \"/>\n",
       "<text text-anchor=\"middle\" x=\"62.5\" y=\"-97.8\" font-family=\"Times New Roman,serif\" font-size=\"14.00\">data 2.0000</text>\n",
       "<polyline fill=\"none\" stroke=\"black\" points=\"102.5,-83.5 102.5,-119.5 \"/>\n",
       "<text text-anchor=\"middle\" x=\"143.5\" y=\"-97.8\" font-family=\"Times New Roman,serif\" font-size=\"14.00\">grad 0.0000</text>\n",
       "</g>\n",
       "<!-- 2863443482608* -->\n",
       "<g id=\"node7\" class=\"node\">\n",
       "<title>2863443482608*</title>\n",
       "<ellipse fill=\"none\" stroke=\"black\" cx=\"250\" cy=\"-73.5\" rx=\"27\" ry=\"18\"/>\n",
       "<text text-anchor=\"middle\" x=\"250\" y=\"-69.8\" font-family=\"Times New Roman,serif\" font-size=\"14.00\">*</text>\n",
       "</g>\n",
       "<!-- 2863443480688&#45;&gt;2863443482608* -->\n",
       "<g id=\"edge4\" class=\"edge\">\n",
       "<title>2863443480688&#45;&gt;2863443482608*</title>\n",
       "<path fill=\"none\" stroke=\"black\" d=\"M184.82,-85.13C195.07,-83.27 205.01,-81.47 213.88,-79.87\"/>\n",
       "<polygon fill=\"black\" stroke=\"black\" points=\"214.54,-83.3 223.75,-78.08 213.29,-76.42 214.54,-83.3\"/>\n",
       "</g>\n",
       "<!-- 2863443480832 -->\n",
       "<g id=\"node2\" class=\"node\">\n",
       "<title>2863443480832</title>\n",
       "<polygon fill=\"none\" stroke=\"black\" points=\"313,-0.5 313,-36.5 502,-36.5 502,-0.5 313,-0.5\"/>\n",
       "<text text-anchor=\"middle\" x=\"323\" y=\"-14.8\" font-family=\"Times New Roman,serif\" font-size=\"14.00\"> </text>\n",
       "<polyline fill=\"none\" stroke=\"black\" points=\"333,-0.5 333,-36.5 \"/>\n",
       "<text text-anchor=\"middle\" x=\"376.5\" y=\"-14.8\" font-family=\"Times New Roman,serif\" font-size=\"14.00\">data 10.0000</text>\n",
       "<polyline fill=\"none\" stroke=\"black\" points=\"420,-0.5 420,-36.5 \"/>\n",
       "<text text-anchor=\"middle\" x=\"461\" y=\"-14.8\" font-family=\"Times New Roman,serif\" font-size=\"14.00\">grad 0.0000</text>\n",
       "</g>\n",
       "<!-- 2863443481984+ -->\n",
       "<g id=\"node5\" class=\"node\">\n",
       "<title>2863443481984+</title>\n",
       "<ellipse fill=\"none\" stroke=\"black\" cx=\"565\" cy=\"-45.5\" rx=\"27\" ry=\"18\"/>\n",
       "<text text-anchor=\"middle\" x=\"565\" y=\"-41.8\" font-family=\"Times New Roman,serif\" font-size=\"14.00\">+</text>\n",
       "</g>\n",
       "<!-- 2863443480832&#45;&gt;2863443481984+ -->\n",
       "<g id=\"edge5\" class=\"edge\">\n",
       "<title>2863443480832&#45;&gt;2863443481984+</title>\n",
       "<path fill=\"none\" stroke=\"black\" d=\"M502.1,-34.75C511.4,-36.37 520.38,-37.93 528.49,-39.33\"/>\n",
       "<polygon fill=\"black\" stroke=\"black\" points=\"528.14,-42.83 538.59,-41.09 529.34,-35.93 528.14,-42.83\"/>\n",
       "</g>\n",
       "<!-- 2863443481888 -->\n",
       "<g id=\"node3\" class=\"node\">\n",
       "<title>2863443481888</title>\n",
       "<polygon fill=\"none\" stroke=\"black\" points=\"0,-28.5 0,-64.5 187,-64.5 187,-28.5 0,-28.5\"/>\n",
       "<text text-anchor=\"middle\" x=\"10\" y=\"-42.8\" font-family=\"Times New Roman,serif\" font-size=\"14.00\"> </text>\n",
       "<polyline fill=\"none\" stroke=\"black\" points=\"20,-28.5 20,-64.5 \"/>\n",
       "<text text-anchor=\"middle\" x=\"62.5\" y=\"-42.8\" font-family=\"Times New Roman,serif\" font-size=\"14.00\">data &#45;3.0000</text>\n",
       "<polyline fill=\"none\" stroke=\"black\" points=\"105,-28.5 105,-64.5 \"/>\n",
       "<text text-anchor=\"middle\" x=\"146\" y=\"-42.8\" font-family=\"Times New Roman,serif\" font-size=\"14.00\">grad 0.0000</text>\n",
       "</g>\n",
       "<!-- 2863443481888&#45;&gt;2863443482608* -->\n",
       "<g id=\"edge3\" class=\"edge\">\n",
       "<title>2863443481888&#45;&gt;2863443482608*</title>\n",
       "<path fill=\"none\" stroke=\"black\" d=\"M187.05,-62.67C196.34,-64.3 205.33,-65.87 213.44,-67.29\"/>\n",
       "<polygon fill=\"black\" stroke=\"black\" points=\"213.1,-70.78 223.55,-69.05 214.3,-63.88 213.1,-70.78\"/>\n",
       "</g>\n",
       "<!-- 2863443481984 -->\n",
       "<g id=\"node4\" class=\"node\">\n",
       "<title>2863443481984</title>\n",
       "<polygon fill=\"none\" stroke=\"black\" points=\"628,-27.5 628,-63.5 810,-63.5 810,-27.5 628,-27.5\"/>\n",
       "<text text-anchor=\"middle\" x=\"638\" y=\"-41.8\" font-family=\"Times New Roman,serif\" font-size=\"14.00\"> </text>\n",
       "<polyline fill=\"none\" stroke=\"black\" points=\"648,-27.5 648,-63.5 \"/>\n",
       "<text text-anchor=\"middle\" x=\"688\" y=\"-41.8\" font-family=\"Times New Roman,serif\" font-size=\"14.00\">data 4.0000</text>\n",
       "<polyline fill=\"none\" stroke=\"black\" points=\"728,-27.5 728,-63.5 \"/>\n",
       "<text text-anchor=\"middle\" x=\"769\" y=\"-41.8\" font-family=\"Times New Roman,serif\" font-size=\"14.00\">grad 0.0000</text>\n",
       "</g>\n",
       "<!-- 2863443481984+&#45;&gt;2863443481984 -->\n",
       "<g id=\"edge1\" class=\"edge\">\n",
       "<title>2863443481984+&#45;&gt;2863443481984</title>\n",
       "<path fill=\"none\" stroke=\"black\" d=\"M592.13,-45.5C599.67,-45.5 608.39,-45.5 617.64,-45.5\"/>\n",
       "<polygon fill=\"black\" stroke=\"black\" points=\"617.87,-49 627.87,-45.5 617.87,-42 617.87,-49\"/>\n",
       "</g>\n",
       "<!-- 2863443482608 -->\n",
       "<g id=\"node6\" class=\"node\">\n",
       "<title>2863443482608</title>\n",
       "<polygon fill=\"none\" stroke=\"black\" points=\"314,-55.5 314,-91.5 501,-91.5 501,-55.5 314,-55.5\"/>\n",
       "<text text-anchor=\"middle\" x=\"324\" y=\"-69.8\" font-family=\"Times New Roman,serif\" font-size=\"14.00\"> </text>\n",
       "<polyline fill=\"none\" stroke=\"black\" points=\"334,-55.5 334,-91.5 \"/>\n",
       "<text text-anchor=\"middle\" x=\"376.5\" y=\"-69.8\" font-family=\"Times New Roman,serif\" font-size=\"14.00\">data &#45;6.0000</text>\n",
       "<polyline fill=\"none\" stroke=\"black\" points=\"419,-55.5 419,-91.5 \"/>\n",
       "<text text-anchor=\"middle\" x=\"460\" y=\"-69.8\" font-family=\"Times New Roman,serif\" font-size=\"14.00\">grad 0.0000</text>\n",
       "</g>\n",
       "<!-- 2863443482608&#45;&gt;2863443481984+ -->\n",
       "<g id=\"edge6\" class=\"edge\">\n",
       "<title>2863443482608&#45;&gt;2863443481984+</title>\n",
       "<path fill=\"none\" stroke=\"black\" d=\"M501.2,-56.81C510.9,-55.06 520.27,-53.37 528.68,-51.86\"/>\n",
       "<polygon fill=\"black\" stroke=\"black\" points=\"529.57,-55.26 538.79,-50.04 528.32,-48.37 529.57,-55.26\"/>\n",
       "</g>\n",
       "<!-- 2863443482608*&#45;&gt;2863443482608 -->\n",
       "<g id=\"edge2\" class=\"edge\">\n",
       "<title>2863443482608*&#45;&gt;2863443482608</title>\n",
       "<path fill=\"none\" stroke=\"black\" d=\"M277.03,-73.5C284.86,-73.5 293.96,-73.5 303.66,-73.5\"/>\n",
       "<polygon fill=\"black\" stroke=\"black\" points=\"303.94,-77 313.94,-73.5 303.94,-70 303.94,-77\"/>\n",
       "</g>\n",
       "</g>\n",
       "</svg>\n"
      ],
      "text/plain": [
       "<graphviz.graphs.Digraph at 0x29ab2881940>"
      ]
     },
     "execution_count": 29,
     "metadata": {},
     "output_type": "execute_result"
    }
   ],
   "source": [
    "draw_dot(d)"
   ]
  },
  {
   "cell_type": "code",
   "execution_count": 30,
   "id": "9fa63b0d-e1ce-4f6a-9e84-72a6298080a4",
   "metadata": {},
   "outputs": [],
   "source": [
    "# Add labels"
   ]
  },
  {
   "cell_type": "code",
   "execution_count": 31,
   "id": "f8071e41-b69e-40d8-bcd9-fe14b60f13a6",
   "metadata": {},
   "outputs": [],
   "source": [
    "a = Value(2.0, label='a')\n",
    "b = Value(-3.0, label='b')\n",
    "c = Value(10.0, label='c')\n",
    "e = a*b; e.label = 'e'\n",
    "d = e + c; d.label = 'd'\n",
    "f = Value(-2.0, label='f')\n",
    "L = d * f; L.label = 'L'"
   ]
  },
  {
   "cell_type": "code",
   "execution_count": 32,
   "id": "d60d6310-27b3-425e-87d7-6ce6795290aa",
   "metadata": {},
   "outputs": [
    {
     "data": {
      "image/svg+xml": [
       "<?xml version=\"1.0\" encoding=\"UTF-8\" standalone=\"no\"?>\n",
       "<!DOCTYPE svg PUBLIC \"-//W3C//DTD SVG 1.1//EN\"\n",
       " \"http://www.w3.org/Graphics/SVG/1.1/DTD/svg11.dtd\">\n",
       "<!-- Generated by graphviz version 2.50.0 (0)\n",
       " -->\n",
       "<!-- Pages: 1 -->\n",
       "<svg width=\"1148pt\" height=\"156pt\"\n",
       " viewBox=\"0.00 0.00 1148.00 156.00\" xmlns=\"http://www.w3.org/2000/svg\" xmlns:xlink=\"http://www.w3.org/1999/xlink\">\n",
       "<g id=\"graph0\" class=\"graph\" transform=\"scale(1 1) rotate(0) translate(4 152)\">\n",
       "<polygon fill=\"white\" stroke=\"transparent\" points=\"-4,4 -4,-152 1144,-152 1144,4 -4,4\"/>\n",
       "<!-- 2863443587232 -->\n",
       "<g id=\"node1\" class=\"node\">\n",
       "<title>2863443587232</title>\n",
       "<polygon fill=\"none\" stroke=\"black\" points=\"2.5,-111.5 2.5,-147.5 187.5,-147.5 187.5,-111.5 2.5,-111.5\"/>\n",
       "<text text-anchor=\"middle\" x=\"14\" y=\"-125.8\" font-family=\"Times New Roman,serif\" font-size=\"14.00\">a</text>\n",
       "<polyline fill=\"none\" stroke=\"black\" points=\"25.5,-111.5 25.5,-147.5 \"/>\n",
       "<text text-anchor=\"middle\" x=\"65.5\" y=\"-125.8\" font-family=\"Times New Roman,serif\" font-size=\"14.00\">data 2.0000</text>\n",
       "<polyline fill=\"none\" stroke=\"black\" points=\"105.5,-111.5 105.5,-147.5 \"/>\n",
       "<text text-anchor=\"middle\" x=\"146.5\" y=\"-125.8\" font-family=\"Times New Roman,serif\" font-size=\"14.00\">grad 0.0000</text>\n",
       "</g>\n",
       "<!-- 2863443588528* -->\n",
       "<g id=\"node9\" class=\"node\">\n",
       "<title>2863443588528*</title>\n",
       "<ellipse fill=\"none\" stroke=\"black\" cx=\"253\" cy=\"-101.5\" rx=\"27\" ry=\"18\"/>\n",
       "<text text-anchor=\"middle\" x=\"253\" y=\"-97.8\" font-family=\"Times New Roman,serif\" font-size=\"14.00\">*</text>\n",
       "</g>\n",
       "<!-- 2863443587232&#45;&gt;2863443588528* -->\n",
       "<g id=\"edge7\" class=\"edge\">\n",
       "<title>2863443587232&#45;&gt;2863443588528*</title>\n",
       "<path fill=\"none\" stroke=\"black\" d=\"M187.65,-113.05C197.94,-111.2 207.91,-109.41 216.81,-107.82\"/>\n",
       "<polygon fill=\"black\" stroke=\"black\" points=\"217.48,-111.25 226.71,-106.04 216.25,-104.36 217.48,-111.25\"/>\n",
       "</g>\n",
       "<!-- 2863443587328 -->\n",
       "<g id=\"node2\" class=\"node\">\n",
       "<title>2863443587328</title>\n",
       "<polygon fill=\"none\" stroke=\"black\" points=\"948,-27.5 948,-63.5 1140,-63.5 1140,-27.5 948,-27.5\"/>\n",
       "<text text-anchor=\"middle\" x=\"960.5\" y=\"-41.8\" font-family=\"Times New Roman,serif\" font-size=\"14.00\">L</text>\n",
       "<polyline fill=\"none\" stroke=\"black\" points=\"973,-27.5 973,-63.5 \"/>\n",
       "<text text-anchor=\"middle\" x=\"1015.5\" y=\"-41.8\" font-family=\"Times New Roman,serif\" font-size=\"14.00\">data &#45;8.0000</text>\n",
       "<polyline fill=\"none\" stroke=\"black\" points=\"1058,-27.5 1058,-63.5 \"/>\n",
       "<text text-anchor=\"middle\" x=\"1099\" y=\"-41.8\" font-family=\"Times New Roman,serif\" font-size=\"14.00\">grad 0.0000</text>\n",
       "</g>\n",
       "<!-- 2863443587328* -->\n",
       "<g id=\"node3\" class=\"node\">\n",
       "<title>2863443587328*</title>\n",
       "<ellipse fill=\"none\" stroke=\"black\" cx=\"885\" cy=\"-45.5\" rx=\"27\" ry=\"18\"/>\n",
       "<text text-anchor=\"middle\" x=\"885\" y=\"-41.8\" font-family=\"Times New Roman,serif\" font-size=\"14.00\">*</text>\n",
       "</g>\n",
       "<!-- 2863443587328*&#45;&gt;2863443587328 -->\n",
       "<g id=\"edge1\" class=\"edge\">\n",
       "<title>2863443587328*&#45;&gt;2863443587328</title>\n",
       "<path fill=\"none\" stroke=\"black\" d=\"M912.28,-45.5C919.78,-45.5 928.44,-45.5 937.67,-45.5\"/>\n",
       "<polygon fill=\"black\" stroke=\"black\" points=\"937.87,-49 947.87,-45.5 937.87,-42 937.87,-49\"/>\n",
       "</g>\n",
       "<!-- 2863443587856 -->\n",
       "<g id=\"node4\" class=\"node\">\n",
       "<title>2863443587856</title>\n",
       "<polygon fill=\"none\" stroke=\"black\" points=\"0,-56.5 0,-92.5 190,-92.5 190,-56.5 0,-56.5\"/>\n",
       "<text text-anchor=\"middle\" x=\"11.5\" y=\"-70.8\" font-family=\"Times New Roman,serif\" font-size=\"14.00\">b</text>\n",
       "<polyline fill=\"none\" stroke=\"black\" points=\"23,-56.5 23,-92.5 \"/>\n",
       "<text text-anchor=\"middle\" x=\"65.5\" y=\"-70.8\" font-family=\"Times New Roman,serif\" font-size=\"14.00\">data &#45;3.0000</text>\n",
       "<polyline fill=\"none\" stroke=\"black\" points=\"108,-56.5 108,-92.5 \"/>\n",
       "<text text-anchor=\"middle\" x=\"149\" y=\"-70.8\" font-family=\"Times New Roman,serif\" font-size=\"14.00\">grad 0.0000</text>\n",
       "</g>\n",
       "<!-- 2863443587856&#45;&gt;2863443588528* -->\n",
       "<g id=\"edge6\" class=\"edge\">\n",
       "<title>2863443587856&#45;&gt;2863443588528*</title>\n",
       "<path fill=\"none\" stroke=\"black\" d=\"M190.34,-90.83C199.62,-92.44 208.58,-93.99 216.66,-95.38\"/>\n",
       "<polygon fill=\"black\" stroke=\"black\" points=\"216.27,-98.87 226.72,-97.12 217.46,-91.97 216.27,-98.87\"/>\n",
       "</g>\n",
       "<!-- 2863443588912 -->\n",
       "<g id=\"node5\" class=\"node\">\n",
       "<title>2863443588912</title>\n",
       "<polygon fill=\"none\" stroke=\"black\" points=\"635.5,-55.5 635.5,-91.5 820.5,-91.5 820.5,-55.5 635.5,-55.5\"/>\n",
       "<text text-anchor=\"middle\" x=\"647\" y=\"-69.8\" font-family=\"Times New Roman,serif\" font-size=\"14.00\">d</text>\n",
       "<polyline fill=\"none\" stroke=\"black\" points=\"658.5,-55.5 658.5,-91.5 \"/>\n",
       "<text text-anchor=\"middle\" x=\"698.5\" y=\"-69.8\" font-family=\"Times New Roman,serif\" font-size=\"14.00\">data 4.0000</text>\n",
       "<polyline fill=\"none\" stroke=\"black\" points=\"738.5,-55.5 738.5,-91.5 \"/>\n",
       "<text text-anchor=\"middle\" x=\"779.5\" y=\"-69.8\" font-family=\"Times New Roman,serif\" font-size=\"14.00\">grad 0.0000</text>\n",
       "</g>\n",
       "<!-- 2863443588912&#45;&gt;2863443587328* -->\n",
       "<g id=\"edge9\" class=\"edge\">\n",
       "<title>2863443588912&#45;&gt;2863443587328*</title>\n",
       "<path fill=\"none\" stroke=\"black\" d=\"M820.51,-56.97C830.48,-55.17 840.13,-53.42 848.77,-51.86\"/>\n",
       "<polygon fill=\"black\" stroke=\"black\" points=\"849.55,-55.28 858.77,-50.06 848.3,-48.39 849.55,-55.28\"/>\n",
       "</g>\n",
       "<!-- 2863443588912+ -->\n",
       "<g id=\"node6\" class=\"node\">\n",
       "<title>2863443588912+</title>\n",
       "<ellipse fill=\"none\" stroke=\"black\" cx=\"571\" cy=\"-73.5\" rx=\"27\" ry=\"18\"/>\n",
       "<text text-anchor=\"middle\" x=\"571\" y=\"-69.8\" font-family=\"Times New Roman,serif\" font-size=\"14.00\">+</text>\n",
       "</g>\n",
       "<!-- 2863443588912+&#45;&gt;2863443588912 -->\n",
       "<g id=\"edge2\" class=\"edge\">\n",
       "<title>2863443588912+&#45;&gt;2863443588912</title>\n",
       "<path fill=\"none\" stroke=\"black\" d=\"M598.29,-73.5C606.26,-73.5 615.54,-73.5 625.39,-73.5\"/>\n",
       "<polygon fill=\"black\" stroke=\"black\" points=\"625.41,-77 635.41,-73.5 625.41,-70 625.41,-77\"/>\n",
       "</g>\n",
       "<!-- 2863443589008 -->\n",
       "<g id=\"node7\" class=\"node\">\n",
       "<title>2863443589008</title>\n",
       "<polygon fill=\"none\" stroke=\"black\" points=\"634,-0.5 634,-36.5 822,-36.5 822,-0.5 634,-0.5\"/>\n",
       "<text text-anchor=\"middle\" x=\"644.5\" y=\"-14.8\" font-family=\"Times New Roman,serif\" font-size=\"14.00\">f</text>\n",
       "<polyline fill=\"none\" stroke=\"black\" points=\"655,-0.5 655,-36.5 \"/>\n",
       "<text text-anchor=\"middle\" x=\"697.5\" y=\"-14.8\" font-family=\"Times New Roman,serif\" font-size=\"14.00\">data &#45;2.0000</text>\n",
       "<polyline fill=\"none\" stroke=\"black\" points=\"740,-0.5 740,-36.5 \"/>\n",
       "<text text-anchor=\"middle\" x=\"781\" y=\"-14.8\" font-family=\"Times New Roman,serif\" font-size=\"14.00\">grad 0.0000</text>\n",
       "</g>\n",
       "<!-- 2863443589008&#45;&gt;2863443587328* -->\n",
       "<g id=\"edge5\" class=\"edge\">\n",
       "<title>2863443589008&#45;&gt;2863443587328*</title>\n",
       "<path fill=\"none\" stroke=\"black\" d=\"M822.29,-34.75C831.57,-36.37 840.52,-37.93 848.61,-39.33\"/>\n",
       "<polygon fill=\"black\" stroke=\"black\" points=\"848.22,-42.82 858.68,-41.09 849.42,-35.92 848.22,-42.82\"/>\n",
       "</g>\n",
       "<!-- 2863443588528 -->\n",
       "<g id=\"node8\" class=\"node\">\n",
       "<title>2863443588528</title>\n",
       "<polygon fill=\"none\" stroke=\"black\" points=\"317,-83.5 317,-119.5 507,-119.5 507,-83.5 317,-83.5\"/>\n",
       "<text text-anchor=\"middle\" x=\"328.5\" y=\"-97.8\" font-family=\"Times New Roman,serif\" font-size=\"14.00\">e</text>\n",
       "<polyline fill=\"none\" stroke=\"black\" points=\"340,-83.5 340,-119.5 \"/>\n",
       "<text text-anchor=\"middle\" x=\"382.5\" y=\"-97.8\" font-family=\"Times New Roman,serif\" font-size=\"14.00\">data &#45;6.0000</text>\n",
       "<polyline fill=\"none\" stroke=\"black\" points=\"425,-83.5 425,-119.5 \"/>\n",
       "<text text-anchor=\"middle\" x=\"466\" y=\"-97.8\" font-family=\"Times New Roman,serif\" font-size=\"14.00\">grad 0.0000</text>\n",
       "</g>\n",
       "<!-- 2863443588528&#45;&gt;2863443588912+ -->\n",
       "<g id=\"edge8\" class=\"edge\">\n",
       "<title>2863443588528&#45;&gt;2863443588912+</title>\n",
       "<path fill=\"none\" stroke=\"black\" d=\"M507.05,-84.73C516.89,-82.97 526.39,-81.28 534.9,-79.76\"/>\n",
       "<polygon fill=\"black\" stroke=\"black\" points=\"535.52,-83.2 544.75,-78 534.29,-76.31 535.52,-83.2\"/>\n",
       "</g>\n",
       "<!-- 2863443588528*&#45;&gt;2863443588528 -->\n",
       "<g id=\"edge3\" class=\"edge\">\n",
       "<title>2863443588528*&#45;&gt;2863443588528</title>\n",
       "<path fill=\"none\" stroke=\"black\" d=\"M280.28,-101.5C288.05,-101.5 297.08,-101.5 306.68,-101.5\"/>\n",
       "<polygon fill=\"black\" stroke=\"black\" points=\"306.88,-105 316.88,-101.5 306.88,-98 306.88,-105\"/>\n",
       "</g>\n",
       "<!-- 2863443589056 -->\n",
       "<g id=\"node10\" class=\"node\">\n",
       "<title>2863443589056</title>\n",
       "<polygon fill=\"none\" stroke=\"black\" points=\"316,-28.5 316,-64.5 508,-64.5 508,-28.5 316,-28.5\"/>\n",
       "<text text-anchor=\"middle\" x=\"327.5\" y=\"-42.8\" font-family=\"Times New Roman,serif\" font-size=\"14.00\">c</text>\n",
       "<polyline fill=\"none\" stroke=\"black\" points=\"339,-28.5 339,-64.5 \"/>\n",
       "<text text-anchor=\"middle\" x=\"382.5\" y=\"-42.8\" font-family=\"Times New Roman,serif\" font-size=\"14.00\">data 10.0000</text>\n",
       "<polyline fill=\"none\" stroke=\"black\" points=\"426,-28.5 426,-64.5 \"/>\n",
       "<text text-anchor=\"middle\" x=\"467\" y=\"-42.8\" font-family=\"Times New Roman,serif\" font-size=\"14.00\">grad 0.0000</text>\n",
       "</g>\n",
       "<!-- 2863443589056&#45;&gt;2863443588912+ -->\n",
       "<g id=\"edge4\" class=\"edge\">\n",
       "<title>2863443589056&#45;&gt;2863443588912+</title>\n",
       "<path fill=\"none\" stroke=\"black\" d=\"M508.4,-62.91C517.69,-64.5 526.64,-66.04 534.71,-67.43\"/>\n",
       "<polygon fill=\"black\" stroke=\"black\" points=\"534.32,-70.91 544.76,-69.16 535.5,-64.02 534.32,-70.91\"/>\n",
       "</g>\n",
       "</g>\n",
       "</svg>\n"
      ],
      "text/plain": [
       "<graphviz.graphs.Digraph at 0x29ab2759a90>"
      ]
     },
     "execution_count": 32,
     "metadata": {},
     "output_type": "execute_result"
    }
   ],
   "source": [
    "draw_dot(L)"
   ]
  },
  {
   "cell_type": "code",
   "execution_count": 84,
   "id": "dc4371a8-ca07-47d0-a945-9521486cc0b5",
   "metadata": {},
   "outputs": [],
   "source": [
    "# This can be seen as seen as the forward pass\n"
   ]
  },
  {
   "cell_type": "code",
   "execution_count": 85,
   "id": "249b1b15-f51a-453d-8516-3916a6c55637",
   "metadata": {},
   "outputs": [],
   "source": [
    "# Now let's add the back propagation"
   ]
  },
  {
   "cell_type": "code",
   "execution_count": null,
   "id": "6696d2bc-2bd7-4713-a3f9-b80b27d544f5",
   "metadata": {},
   "outputs": [],
   "source": [
    "#To do that we will compute the derivative of L in respect to L , L in respect to c, L in respect to e and so forth"
   ]
  },
  {
   "cell_type": "code",
   "execution_count": 33,
   "id": "5060879c-6cbf-445a-8998-0859b648e81f",
   "metadata": {},
   "outputs": [],
   "source": [
    "class Value:\n",
    "  \n",
    "    def __init__(self, data, _children=(), _op='', label=''):\n",
    "        self.data = data\n",
    "        self.grad = 0.0\n",
    "        self._backward = lambda: None\n",
    "        self._prev = set(_children)\n",
    "        self._op = _op\n",
    "        self.label = label\n",
    "\n",
    "    def __repr__(self):\n",
    "        return f\"Value(data={self.data})\"\n",
    "\n",
    "    def __add__(self, other):\n",
    "        out = Value(self.data + other.data, (self, other), '+')\n",
    "\n",
    "        def _backward():\n",
    "            self.grad += 1.0 * out.grad\n",
    "            other.grad += 1.0 * out.grad\n",
    "        out._backward = _backward\n",
    "\n",
    "        return out\n",
    "    def __substract__(self, other):\n",
    "        out = Value(self.data - other.data, (self, other), '-')\n",
    "\n",
    "        def _backward():\n",
    "            self.grad += 1.0 * out.grad\n",
    "            other.grad += 1.0 * out.grad\n",
    "        out._backward = _backward\n",
    "\n",
    "        return out\n",
    "    def __mul__(self, other):\n",
    "        out = Value(self.data * other.data, (self, other), '*')\n",
    "\n",
    "        def _backward():\n",
    "            self.grad += 1.0 * out.grad\n",
    "            other.grad += 1.0 * out.grad\n",
    "        out._backward = _backward\n",
    "\n",
    "        return out"
   ]
  },
  {
   "cell_type": "code",
   "execution_count": 34,
   "id": "2725c5e0-0e15-45e4-bca2-5277c52c6599",
   "metadata": {},
   "outputs": [
    {
     "name": "stdout",
     "output_type": "stream",
     "text": [
      "-6.000000000021544\n"
     ]
    }
   ],
   "source": [
    "def stage_variables():\n",
    "    h=0.0001\n",
    "    \n",
    "    a = Value(2.0 + h, label='a') # The derivative in respect to a\n",
    "    b = Value(-3.0, label='b')\n",
    "    c = Value(10.0, label='c')\n",
    "    e = a*b; e.label = 'e'\n",
    "    d = e + c; d.label = 'd'\n",
    "    f = Value(-2.0, label='f')\n",
    "    L1 = d * f; L.label = 'L'\n",
    "    L1=L1.data\n",
    "    \n",
    "    a = Value(2.0, label='a')\n",
    "    b = Value(-3.0, label='b')\n",
    "    c = Value(10.0, label='c')\n",
    "    e = a*b; e.label = 'e'\n",
    "    d = e + c; d.label = 'd'\n",
    "    f = Value(-2.0, label='f')\n",
    "    L2 = d * f; L.label = 'L'\n",
    "    L2=L2.data\n",
    "    \n",
    "    print((L2 - L1)/h) #The derivative\n",
    "stage_variables()"
   ]
  },
  {
   "cell_type": "code",
   "execution_count": 35,
   "id": "5fa9b498-5b62-4b6a-a5e9-763e7d47a8e8",
   "metadata": {},
   "outputs": [
    {
     "data": {
      "image/svg+xml": [
       "<?xml version=\"1.0\" encoding=\"UTF-8\" standalone=\"no\"?>\n",
       "<!DOCTYPE svg PUBLIC \"-//W3C//DTD SVG 1.1//EN\"\n",
       " \"http://www.w3.org/Graphics/SVG/1.1/DTD/svg11.dtd\">\n",
       "<!-- Generated by graphviz version 2.50.0 (0)\n",
       " -->\n",
       "<!-- Pages: 1 -->\n",
       "<svg width=\"1148pt\" height=\"156pt\"\n",
       " viewBox=\"0.00 0.00 1148.00 156.00\" xmlns=\"http://www.w3.org/2000/svg\" xmlns:xlink=\"http://www.w3.org/1999/xlink\">\n",
       "<g id=\"graph0\" class=\"graph\" transform=\"scale(1 1) rotate(0) translate(4 152)\">\n",
       "<polygon fill=\"white\" stroke=\"transparent\" points=\"-4,4 -4,-152 1144,-152 1144,4 -4,4\"/>\n",
       "<!-- 2863443587232 -->\n",
       "<g id=\"node1\" class=\"node\">\n",
       "<title>2863443587232</title>\n",
       "<polygon fill=\"none\" stroke=\"black\" points=\"2.5,-111.5 2.5,-147.5 187.5,-147.5 187.5,-111.5 2.5,-111.5\"/>\n",
       "<text text-anchor=\"middle\" x=\"14\" y=\"-125.8\" font-family=\"Times New Roman,serif\" font-size=\"14.00\">a</text>\n",
       "<polyline fill=\"none\" stroke=\"black\" points=\"25.5,-111.5 25.5,-147.5 \"/>\n",
       "<text text-anchor=\"middle\" x=\"65.5\" y=\"-125.8\" font-family=\"Times New Roman,serif\" font-size=\"14.00\">data 2.0000</text>\n",
       "<polyline fill=\"none\" stroke=\"black\" points=\"105.5,-111.5 105.5,-147.5 \"/>\n",
       "<text text-anchor=\"middle\" x=\"146.5\" y=\"-125.8\" font-family=\"Times New Roman,serif\" font-size=\"14.00\">grad 0.0000</text>\n",
       "</g>\n",
       "<!-- 2863443588528* -->\n",
       "<g id=\"node9\" class=\"node\">\n",
       "<title>2863443588528*</title>\n",
       "<ellipse fill=\"none\" stroke=\"black\" cx=\"253\" cy=\"-101.5\" rx=\"27\" ry=\"18\"/>\n",
       "<text text-anchor=\"middle\" x=\"253\" y=\"-97.8\" font-family=\"Times New Roman,serif\" font-size=\"14.00\">*</text>\n",
       "</g>\n",
       "<!-- 2863443587232&#45;&gt;2863443588528* -->\n",
       "<g id=\"edge7\" class=\"edge\">\n",
       "<title>2863443587232&#45;&gt;2863443588528*</title>\n",
       "<path fill=\"none\" stroke=\"black\" d=\"M187.65,-113.05C197.94,-111.2 207.91,-109.41 216.81,-107.82\"/>\n",
       "<polygon fill=\"black\" stroke=\"black\" points=\"217.48,-111.25 226.71,-106.04 216.25,-104.36 217.48,-111.25\"/>\n",
       "</g>\n",
       "<!-- 2863443587328 -->\n",
       "<g id=\"node2\" class=\"node\">\n",
       "<title>2863443587328</title>\n",
       "<polygon fill=\"none\" stroke=\"black\" points=\"948,-27.5 948,-63.5 1140,-63.5 1140,-27.5 948,-27.5\"/>\n",
       "<text text-anchor=\"middle\" x=\"960.5\" y=\"-41.8\" font-family=\"Times New Roman,serif\" font-size=\"14.00\">L</text>\n",
       "<polyline fill=\"none\" stroke=\"black\" points=\"973,-27.5 973,-63.5 \"/>\n",
       "<text text-anchor=\"middle\" x=\"1015.5\" y=\"-41.8\" font-family=\"Times New Roman,serif\" font-size=\"14.00\">data &#45;8.0000</text>\n",
       "<polyline fill=\"none\" stroke=\"black\" points=\"1058,-27.5 1058,-63.5 \"/>\n",
       "<text text-anchor=\"middle\" x=\"1099\" y=\"-41.8\" font-family=\"Times New Roman,serif\" font-size=\"14.00\">grad 1.0000</text>\n",
       "</g>\n",
       "<!-- 2863443587328* -->\n",
       "<g id=\"node3\" class=\"node\">\n",
       "<title>2863443587328*</title>\n",
       "<ellipse fill=\"none\" stroke=\"black\" cx=\"885\" cy=\"-45.5\" rx=\"27\" ry=\"18\"/>\n",
       "<text text-anchor=\"middle\" x=\"885\" y=\"-41.8\" font-family=\"Times New Roman,serif\" font-size=\"14.00\">*</text>\n",
       "</g>\n",
       "<!-- 2863443587328*&#45;&gt;2863443587328 -->\n",
       "<g id=\"edge1\" class=\"edge\">\n",
       "<title>2863443587328*&#45;&gt;2863443587328</title>\n",
       "<path fill=\"none\" stroke=\"black\" d=\"M912.28,-45.5C919.78,-45.5 928.44,-45.5 937.67,-45.5\"/>\n",
       "<polygon fill=\"black\" stroke=\"black\" points=\"937.87,-49 947.87,-45.5 937.87,-42 937.87,-49\"/>\n",
       "</g>\n",
       "<!-- 2863443587856 -->\n",
       "<g id=\"node4\" class=\"node\">\n",
       "<title>2863443587856</title>\n",
       "<polygon fill=\"none\" stroke=\"black\" points=\"0,-56.5 0,-92.5 190,-92.5 190,-56.5 0,-56.5\"/>\n",
       "<text text-anchor=\"middle\" x=\"11.5\" y=\"-70.8\" font-family=\"Times New Roman,serif\" font-size=\"14.00\">b</text>\n",
       "<polyline fill=\"none\" stroke=\"black\" points=\"23,-56.5 23,-92.5 \"/>\n",
       "<text text-anchor=\"middle\" x=\"65.5\" y=\"-70.8\" font-family=\"Times New Roman,serif\" font-size=\"14.00\">data &#45;3.0000</text>\n",
       "<polyline fill=\"none\" stroke=\"black\" points=\"108,-56.5 108,-92.5 \"/>\n",
       "<text text-anchor=\"middle\" x=\"149\" y=\"-70.8\" font-family=\"Times New Roman,serif\" font-size=\"14.00\">grad 0.0000</text>\n",
       "</g>\n",
       "<!-- 2863443587856&#45;&gt;2863443588528* -->\n",
       "<g id=\"edge6\" class=\"edge\">\n",
       "<title>2863443587856&#45;&gt;2863443588528*</title>\n",
       "<path fill=\"none\" stroke=\"black\" d=\"M190.34,-90.83C199.62,-92.44 208.58,-93.99 216.66,-95.38\"/>\n",
       "<polygon fill=\"black\" stroke=\"black\" points=\"216.27,-98.87 226.72,-97.12 217.46,-91.97 216.27,-98.87\"/>\n",
       "</g>\n",
       "<!-- 2863443588912 -->\n",
       "<g id=\"node5\" class=\"node\">\n",
       "<title>2863443588912</title>\n",
       "<polygon fill=\"none\" stroke=\"black\" points=\"635.5,-55.5 635.5,-91.5 820.5,-91.5 820.5,-55.5 635.5,-55.5\"/>\n",
       "<text text-anchor=\"middle\" x=\"647\" y=\"-69.8\" font-family=\"Times New Roman,serif\" font-size=\"14.00\">d</text>\n",
       "<polyline fill=\"none\" stroke=\"black\" points=\"658.5,-55.5 658.5,-91.5 \"/>\n",
       "<text text-anchor=\"middle\" x=\"698.5\" y=\"-69.8\" font-family=\"Times New Roman,serif\" font-size=\"14.00\">data 4.0000</text>\n",
       "<polyline fill=\"none\" stroke=\"black\" points=\"738.5,-55.5 738.5,-91.5 \"/>\n",
       "<text text-anchor=\"middle\" x=\"779.5\" y=\"-69.8\" font-family=\"Times New Roman,serif\" font-size=\"14.00\">grad 0.0000</text>\n",
       "</g>\n",
       "<!-- 2863443588912&#45;&gt;2863443587328* -->\n",
       "<g id=\"edge9\" class=\"edge\">\n",
       "<title>2863443588912&#45;&gt;2863443587328*</title>\n",
       "<path fill=\"none\" stroke=\"black\" d=\"M820.51,-56.97C830.48,-55.17 840.13,-53.42 848.77,-51.86\"/>\n",
       "<polygon fill=\"black\" stroke=\"black\" points=\"849.55,-55.28 858.77,-50.06 848.3,-48.39 849.55,-55.28\"/>\n",
       "</g>\n",
       "<!-- 2863443588912+ -->\n",
       "<g id=\"node6\" class=\"node\">\n",
       "<title>2863443588912+</title>\n",
       "<ellipse fill=\"none\" stroke=\"black\" cx=\"571\" cy=\"-73.5\" rx=\"27\" ry=\"18\"/>\n",
       "<text text-anchor=\"middle\" x=\"571\" y=\"-69.8\" font-family=\"Times New Roman,serif\" font-size=\"14.00\">+</text>\n",
       "</g>\n",
       "<!-- 2863443588912+&#45;&gt;2863443588912 -->\n",
       "<g id=\"edge2\" class=\"edge\">\n",
       "<title>2863443588912+&#45;&gt;2863443588912</title>\n",
       "<path fill=\"none\" stroke=\"black\" d=\"M598.29,-73.5C606.26,-73.5 615.54,-73.5 625.39,-73.5\"/>\n",
       "<polygon fill=\"black\" stroke=\"black\" points=\"625.41,-77 635.41,-73.5 625.41,-70 625.41,-77\"/>\n",
       "</g>\n",
       "<!-- 2863443589008 -->\n",
       "<g id=\"node7\" class=\"node\">\n",
       "<title>2863443589008</title>\n",
       "<polygon fill=\"none\" stroke=\"black\" points=\"634,-0.5 634,-36.5 822,-36.5 822,-0.5 634,-0.5\"/>\n",
       "<text text-anchor=\"middle\" x=\"644.5\" y=\"-14.8\" font-family=\"Times New Roman,serif\" font-size=\"14.00\">f</text>\n",
       "<polyline fill=\"none\" stroke=\"black\" points=\"655,-0.5 655,-36.5 \"/>\n",
       "<text text-anchor=\"middle\" x=\"697.5\" y=\"-14.8\" font-family=\"Times New Roman,serif\" font-size=\"14.00\">data &#45;2.0000</text>\n",
       "<polyline fill=\"none\" stroke=\"black\" points=\"740,-0.5 740,-36.5 \"/>\n",
       "<text text-anchor=\"middle\" x=\"781\" y=\"-14.8\" font-family=\"Times New Roman,serif\" font-size=\"14.00\">grad 0.0000</text>\n",
       "</g>\n",
       "<!-- 2863443589008&#45;&gt;2863443587328* -->\n",
       "<g id=\"edge5\" class=\"edge\">\n",
       "<title>2863443589008&#45;&gt;2863443587328*</title>\n",
       "<path fill=\"none\" stroke=\"black\" d=\"M822.29,-34.75C831.57,-36.37 840.52,-37.93 848.61,-39.33\"/>\n",
       "<polygon fill=\"black\" stroke=\"black\" points=\"848.22,-42.82 858.68,-41.09 849.42,-35.92 848.22,-42.82\"/>\n",
       "</g>\n",
       "<!-- 2863443588528 -->\n",
       "<g id=\"node8\" class=\"node\">\n",
       "<title>2863443588528</title>\n",
       "<polygon fill=\"none\" stroke=\"black\" points=\"317,-83.5 317,-119.5 507,-119.5 507,-83.5 317,-83.5\"/>\n",
       "<text text-anchor=\"middle\" x=\"328.5\" y=\"-97.8\" font-family=\"Times New Roman,serif\" font-size=\"14.00\">e</text>\n",
       "<polyline fill=\"none\" stroke=\"black\" points=\"340,-83.5 340,-119.5 \"/>\n",
       "<text text-anchor=\"middle\" x=\"382.5\" y=\"-97.8\" font-family=\"Times New Roman,serif\" font-size=\"14.00\">data &#45;6.0000</text>\n",
       "<polyline fill=\"none\" stroke=\"black\" points=\"425,-83.5 425,-119.5 \"/>\n",
       "<text text-anchor=\"middle\" x=\"466\" y=\"-97.8\" font-family=\"Times New Roman,serif\" font-size=\"14.00\">grad 0.0000</text>\n",
       "</g>\n",
       "<!-- 2863443588528&#45;&gt;2863443588912+ -->\n",
       "<g id=\"edge8\" class=\"edge\">\n",
       "<title>2863443588528&#45;&gt;2863443588912+</title>\n",
       "<path fill=\"none\" stroke=\"black\" d=\"M507.05,-84.73C516.89,-82.97 526.39,-81.28 534.9,-79.76\"/>\n",
       "<polygon fill=\"black\" stroke=\"black\" points=\"535.52,-83.2 544.75,-78 534.29,-76.31 535.52,-83.2\"/>\n",
       "</g>\n",
       "<!-- 2863443588528*&#45;&gt;2863443588528 -->\n",
       "<g id=\"edge3\" class=\"edge\">\n",
       "<title>2863443588528*&#45;&gt;2863443588528</title>\n",
       "<path fill=\"none\" stroke=\"black\" d=\"M280.28,-101.5C288.05,-101.5 297.08,-101.5 306.68,-101.5\"/>\n",
       "<polygon fill=\"black\" stroke=\"black\" points=\"306.88,-105 316.88,-101.5 306.88,-98 306.88,-105\"/>\n",
       "</g>\n",
       "<!-- 2863443589056 -->\n",
       "<g id=\"node10\" class=\"node\">\n",
       "<title>2863443589056</title>\n",
       "<polygon fill=\"none\" stroke=\"black\" points=\"316,-28.5 316,-64.5 508,-64.5 508,-28.5 316,-28.5\"/>\n",
       "<text text-anchor=\"middle\" x=\"327.5\" y=\"-42.8\" font-family=\"Times New Roman,serif\" font-size=\"14.00\">c</text>\n",
       "<polyline fill=\"none\" stroke=\"black\" points=\"339,-28.5 339,-64.5 \"/>\n",
       "<text text-anchor=\"middle\" x=\"382.5\" y=\"-42.8\" font-family=\"Times New Roman,serif\" font-size=\"14.00\">data 10.0000</text>\n",
       "<polyline fill=\"none\" stroke=\"black\" points=\"426,-28.5 426,-64.5 \"/>\n",
       "<text text-anchor=\"middle\" x=\"467\" y=\"-42.8\" font-family=\"Times New Roman,serif\" font-size=\"14.00\">grad 0.0000</text>\n",
       "</g>\n",
       "<!-- 2863443589056&#45;&gt;2863443588912+ -->\n",
       "<g id=\"edge4\" class=\"edge\">\n",
       "<title>2863443589056&#45;&gt;2863443588912+</title>\n",
       "<path fill=\"none\" stroke=\"black\" d=\"M508.4,-62.91C517.69,-64.5 526.64,-66.04 534.71,-67.43\"/>\n",
       "<polygon fill=\"black\" stroke=\"black\" points=\"534.32,-70.91 544.76,-69.16 535.5,-64.02 534.32,-70.91\"/>\n",
       "</g>\n",
       "</g>\n",
       "</svg>\n"
      ],
      "text/plain": [
       "<graphviz.graphs.Digraph at 0x29ab289ba00>"
      ]
     },
     "execution_count": 35,
     "metadata": {},
     "output_type": "execute_result"
    }
   ],
   "source": [
    "L.grad= 1.0 # the derivative in respect to itself is 1\n",
    "draw_dot(L)"
   ]
  },
  {
   "cell_type": "code",
   "execution_count": 104,
   "id": "da5aa94a-1c54-4412-85c3-66b87e8ccdf3",
   "metadata": {},
   "outputs": [
    {
     "name": "stdout",
     "output_type": "stream",
     "text": [
      "-3.9999999999995595\n"
     ]
    }
   ],
   "source": [
    "# dL/dd = ? (What is the derivative of L in respect to d\n",
    "# (f(x+h) -f(x))/h\n",
    "# ((d+h)*f -d*f)/h\n",
    "# (d*f +h*f -d*f) /h\n",
    "# (h*f)/h\n",
    "# f"
   ]
  },
  {
   "cell_type": "code",
   "execution_count": 36,
   "id": "25f430e5-3ac3-47f5-9e90-932ec5916a56",
   "metadata": {},
   "outputs": [],
   "source": [
    "d.grad = -2"
   ]
  },
  {
   "cell_type": "code",
   "execution_count": 37,
   "id": "394e0ffb-1de5-42b1-95fc-ca4f0d011df3",
   "metadata": {},
   "outputs": [],
   "source": [
    "f.grad = 4.0"
   ]
  },
  {
   "cell_type": "code",
   "execution_count": 38,
   "id": "9415276c-2ed2-4609-8f89-c2e8b695a06a",
   "metadata": {},
   "outputs": [
    {
     "data": {
      "image/svg+xml": [
       "<?xml version=\"1.0\" encoding=\"UTF-8\" standalone=\"no\"?>\n",
       "<!DOCTYPE svg PUBLIC \"-//W3C//DTD SVG 1.1//EN\"\n",
       " \"http://www.w3.org/Graphics/SVG/1.1/DTD/svg11.dtd\">\n",
       "<!-- Generated by graphviz version 2.50.0 (0)\n",
       " -->\n",
       "<!-- Pages: 1 -->\n",
       "<svg width=\"1149pt\" height=\"156pt\"\n",
       " viewBox=\"0.00 0.00 1149.00 156.00\" xmlns=\"http://www.w3.org/2000/svg\" xmlns:xlink=\"http://www.w3.org/1999/xlink\">\n",
       "<g id=\"graph0\" class=\"graph\" transform=\"scale(1 1) rotate(0) translate(4 152)\">\n",
       "<polygon fill=\"white\" stroke=\"transparent\" points=\"-4,4 -4,-152 1145,-152 1145,4 -4,4\"/>\n",
       "<!-- 2863443587232 -->\n",
       "<g id=\"node1\" class=\"node\">\n",
       "<title>2863443587232</title>\n",
       "<polygon fill=\"none\" stroke=\"black\" points=\"2.5,-111.5 2.5,-147.5 187.5,-147.5 187.5,-111.5 2.5,-111.5\"/>\n",
       "<text text-anchor=\"middle\" x=\"14\" y=\"-125.8\" font-family=\"Times New Roman,serif\" font-size=\"14.00\">a</text>\n",
       "<polyline fill=\"none\" stroke=\"black\" points=\"25.5,-111.5 25.5,-147.5 \"/>\n",
       "<text text-anchor=\"middle\" x=\"65.5\" y=\"-125.8\" font-family=\"Times New Roman,serif\" font-size=\"14.00\">data 2.0000</text>\n",
       "<polyline fill=\"none\" stroke=\"black\" points=\"105.5,-111.5 105.5,-147.5 \"/>\n",
       "<text text-anchor=\"middle\" x=\"146.5\" y=\"-125.8\" font-family=\"Times New Roman,serif\" font-size=\"14.00\">grad 0.0000</text>\n",
       "</g>\n",
       "<!-- 2863443588528* -->\n",
       "<g id=\"node9\" class=\"node\">\n",
       "<title>2863443588528*</title>\n",
       "<ellipse fill=\"none\" stroke=\"black\" cx=\"253\" cy=\"-101.5\" rx=\"27\" ry=\"18\"/>\n",
       "<text text-anchor=\"middle\" x=\"253\" y=\"-97.8\" font-family=\"Times New Roman,serif\" font-size=\"14.00\">*</text>\n",
       "</g>\n",
       "<!-- 2863443587232&#45;&gt;2863443588528* -->\n",
       "<g id=\"edge7\" class=\"edge\">\n",
       "<title>2863443587232&#45;&gt;2863443588528*</title>\n",
       "<path fill=\"none\" stroke=\"black\" d=\"M187.65,-113.05C197.94,-111.2 207.91,-109.41 216.81,-107.82\"/>\n",
       "<polygon fill=\"black\" stroke=\"black\" points=\"217.48,-111.25 226.71,-106.04 216.25,-104.36 217.48,-111.25\"/>\n",
       "</g>\n",
       "<!-- 2863443587328 -->\n",
       "<g id=\"node2\" class=\"node\">\n",
       "<title>2863443587328</title>\n",
       "<polygon fill=\"none\" stroke=\"black\" points=\"949,-27.5 949,-63.5 1141,-63.5 1141,-27.5 949,-27.5\"/>\n",
       "<text text-anchor=\"middle\" x=\"961.5\" y=\"-41.8\" font-family=\"Times New Roman,serif\" font-size=\"14.00\">L</text>\n",
       "<polyline fill=\"none\" stroke=\"black\" points=\"974,-27.5 974,-63.5 \"/>\n",
       "<text text-anchor=\"middle\" x=\"1016.5\" y=\"-41.8\" font-family=\"Times New Roman,serif\" font-size=\"14.00\">data &#45;8.0000</text>\n",
       "<polyline fill=\"none\" stroke=\"black\" points=\"1059,-27.5 1059,-63.5 \"/>\n",
       "<text text-anchor=\"middle\" x=\"1100\" y=\"-41.8\" font-family=\"Times New Roman,serif\" font-size=\"14.00\">grad 1.0000</text>\n",
       "</g>\n",
       "<!-- 2863443587328* -->\n",
       "<g id=\"node3\" class=\"node\">\n",
       "<title>2863443587328*</title>\n",
       "<ellipse fill=\"none\" stroke=\"black\" cx=\"886\" cy=\"-45.5\" rx=\"27\" ry=\"18\"/>\n",
       "<text text-anchor=\"middle\" x=\"886\" y=\"-41.8\" font-family=\"Times New Roman,serif\" font-size=\"14.00\">*</text>\n",
       "</g>\n",
       "<!-- 2863443587328*&#45;&gt;2863443587328 -->\n",
       "<g id=\"edge1\" class=\"edge\">\n",
       "<title>2863443587328*&#45;&gt;2863443587328</title>\n",
       "<path fill=\"none\" stroke=\"black\" d=\"M913.28,-45.5C920.78,-45.5 929.44,-45.5 938.67,-45.5\"/>\n",
       "<polygon fill=\"black\" stroke=\"black\" points=\"938.87,-49 948.87,-45.5 938.87,-42 938.87,-49\"/>\n",
       "</g>\n",
       "<!-- 2863443587856 -->\n",
       "<g id=\"node4\" class=\"node\">\n",
       "<title>2863443587856</title>\n",
       "<polygon fill=\"none\" stroke=\"black\" points=\"0,-56.5 0,-92.5 190,-92.5 190,-56.5 0,-56.5\"/>\n",
       "<text text-anchor=\"middle\" x=\"11.5\" y=\"-70.8\" font-family=\"Times New Roman,serif\" font-size=\"14.00\">b</text>\n",
       "<polyline fill=\"none\" stroke=\"black\" points=\"23,-56.5 23,-92.5 \"/>\n",
       "<text text-anchor=\"middle\" x=\"65.5\" y=\"-70.8\" font-family=\"Times New Roman,serif\" font-size=\"14.00\">data &#45;3.0000</text>\n",
       "<polyline fill=\"none\" stroke=\"black\" points=\"108,-56.5 108,-92.5 \"/>\n",
       "<text text-anchor=\"middle\" x=\"149\" y=\"-70.8\" font-family=\"Times New Roman,serif\" font-size=\"14.00\">grad 0.0000</text>\n",
       "</g>\n",
       "<!-- 2863443587856&#45;&gt;2863443588528* -->\n",
       "<g id=\"edge6\" class=\"edge\">\n",
       "<title>2863443587856&#45;&gt;2863443588528*</title>\n",
       "<path fill=\"none\" stroke=\"black\" d=\"M190.34,-90.83C199.62,-92.44 208.58,-93.99 216.66,-95.38\"/>\n",
       "<polygon fill=\"black\" stroke=\"black\" points=\"216.27,-98.87 226.72,-97.12 217.46,-91.97 216.27,-98.87\"/>\n",
       "</g>\n",
       "<!-- 2863443588912 -->\n",
       "<g id=\"node5\" class=\"node\">\n",
       "<title>2863443588912</title>\n",
       "<polygon fill=\"none\" stroke=\"black\" points=\"634,-55.5 634,-91.5 823,-91.5 823,-55.5 634,-55.5\"/>\n",
       "<text text-anchor=\"middle\" x=\"645.5\" y=\"-69.8\" font-family=\"Times New Roman,serif\" font-size=\"14.00\">d</text>\n",
       "<polyline fill=\"none\" stroke=\"black\" points=\"657,-55.5 657,-91.5 \"/>\n",
       "<text text-anchor=\"middle\" x=\"697\" y=\"-69.8\" font-family=\"Times New Roman,serif\" font-size=\"14.00\">data 4.0000</text>\n",
       "<polyline fill=\"none\" stroke=\"black\" points=\"737,-55.5 737,-91.5 \"/>\n",
       "<text text-anchor=\"middle\" x=\"780\" y=\"-69.8\" font-family=\"Times New Roman,serif\" font-size=\"14.00\">grad &#45;2.0000</text>\n",
       "</g>\n",
       "<!-- 2863443588912&#45;&gt;2863443587328* -->\n",
       "<g id=\"edge9\" class=\"edge\">\n",
       "<title>2863443588912&#45;&gt;2863443587328*</title>\n",
       "<path fill=\"none\" stroke=\"black\" d=\"M823.1,-56.65C832.4,-54.97 841.38,-53.35 849.49,-51.89\"/>\n",
       "<polygon fill=\"black\" stroke=\"black\" points=\"850.37,-55.29 859.59,-50.07 849.13,-48.4 850.37,-55.29\"/>\n",
       "</g>\n",
       "<!-- 2863443588912+ -->\n",
       "<g id=\"node6\" class=\"node\">\n",
       "<title>2863443588912+</title>\n",
       "<ellipse fill=\"none\" stroke=\"black\" cx=\"571\" cy=\"-73.5\" rx=\"27\" ry=\"18\"/>\n",
       "<text text-anchor=\"middle\" x=\"571\" y=\"-69.8\" font-family=\"Times New Roman,serif\" font-size=\"14.00\">+</text>\n",
       "</g>\n",
       "<!-- 2863443588912+&#45;&gt;2863443588912 -->\n",
       "<g id=\"edge2\" class=\"edge\">\n",
       "<title>2863443588912+&#45;&gt;2863443588912</title>\n",
       "<path fill=\"none\" stroke=\"black\" d=\"M598.03,-73.5C605.66,-73.5 614.52,-73.5 623.94,-73.5\"/>\n",
       "<polygon fill=\"black\" stroke=\"black\" points=\"623.94,-77 633.94,-73.5 623.94,-70 623.94,-77\"/>\n",
       "</g>\n",
       "<!-- 2863443589008 -->\n",
       "<g id=\"node7\" class=\"node\">\n",
       "<title>2863443589008</title>\n",
       "<polygon fill=\"none\" stroke=\"black\" points=\"634.5,-0.5 634.5,-36.5 822.5,-36.5 822.5,-0.5 634.5,-0.5\"/>\n",
       "<text text-anchor=\"middle\" x=\"645\" y=\"-14.8\" font-family=\"Times New Roman,serif\" font-size=\"14.00\">f</text>\n",
       "<polyline fill=\"none\" stroke=\"black\" points=\"655.5,-0.5 655.5,-36.5 \"/>\n",
       "<text text-anchor=\"middle\" x=\"698\" y=\"-14.8\" font-family=\"Times New Roman,serif\" font-size=\"14.00\">data &#45;2.0000</text>\n",
       "<polyline fill=\"none\" stroke=\"black\" points=\"740.5,-0.5 740.5,-36.5 \"/>\n",
       "<text text-anchor=\"middle\" x=\"781.5\" y=\"-14.8\" font-family=\"Times New Roman,serif\" font-size=\"14.00\">grad 4.0000</text>\n",
       "</g>\n",
       "<!-- 2863443589008&#45;&gt;2863443587328* -->\n",
       "<g id=\"edge5\" class=\"edge\">\n",
       "<title>2863443589008&#45;&gt;2863443587328*</title>\n",
       "<path fill=\"none\" stroke=\"black\" d=\"M822.65,-34.67C832.2,-36.33 841.43,-37.93 849.72,-39.37\"/>\n",
       "<polygon fill=\"black\" stroke=\"black\" points=\"849.24,-42.84 859.69,-41.11 850.44,-35.95 849.24,-42.84\"/>\n",
       "</g>\n",
       "<!-- 2863443588528 -->\n",
       "<g id=\"node8\" class=\"node\">\n",
       "<title>2863443588528</title>\n",
       "<polygon fill=\"none\" stroke=\"black\" points=\"317,-83.5 317,-119.5 507,-119.5 507,-83.5 317,-83.5\"/>\n",
       "<text text-anchor=\"middle\" x=\"328.5\" y=\"-97.8\" font-family=\"Times New Roman,serif\" font-size=\"14.00\">e</text>\n",
       "<polyline fill=\"none\" stroke=\"black\" points=\"340,-83.5 340,-119.5 \"/>\n",
       "<text text-anchor=\"middle\" x=\"382.5\" y=\"-97.8\" font-family=\"Times New Roman,serif\" font-size=\"14.00\">data &#45;6.0000</text>\n",
       "<polyline fill=\"none\" stroke=\"black\" points=\"425,-83.5 425,-119.5 \"/>\n",
       "<text text-anchor=\"middle\" x=\"466\" y=\"-97.8\" font-family=\"Times New Roman,serif\" font-size=\"14.00\">grad 0.0000</text>\n",
       "</g>\n",
       "<!-- 2863443588528&#45;&gt;2863443588912+ -->\n",
       "<g id=\"edge8\" class=\"edge\">\n",
       "<title>2863443588528&#45;&gt;2863443588912+</title>\n",
       "<path fill=\"none\" stroke=\"black\" d=\"M507.05,-84.73C516.89,-82.97 526.39,-81.28 534.9,-79.76\"/>\n",
       "<polygon fill=\"black\" stroke=\"black\" points=\"535.52,-83.2 544.75,-78 534.29,-76.31 535.52,-83.2\"/>\n",
       "</g>\n",
       "<!-- 2863443588528*&#45;&gt;2863443588528 -->\n",
       "<g id=\"edge3\" class=\"edge\">\n",
       "<title>2863443588528*&#45;&gt;2863443588528</title>\n",
       "<path fill=\"none\" stroke=\"black\" d=\"M280.28,-101.5C288.05,-101.5 297.08,-101.5 306.68,-101.5\"/>\n",
       "<polygon fill=\"black\" stroke=\"black\" points=\"306.88,-105 316.88,-101.5 306.88,-98 306.88,-105\"/>\n",
       "</g>\n",
       "<!-- 2863443589056 -->\n",
       "<g id=\"node10\" class=\"node\">\n",
       "<title>2863443589056</title>\n",
       "<polygon fill=\"none\" stroke=\"black\" points=\"316,-28.5 316,-64.5 508,-64.5 508,-28.5 316,-28.5\"/>\n",
       "<text text-anchor=\"middle\" x=\"327.5\" y=\"-42.8\" font-family=\"Times New Roman,serif\" font-size=\"14.00\">c</text>\n",
       "<polyline fill=\"none\" stroke=\"black\" points=\"339,-28.5 339,-64.5 \"/>\n",
       "<text text-anchor=\"middle\" x=\"382.5\" y=\"-42.8\" font-family=\"Times New Roman,serif\" font-size=\"14.00\">data 10.0000</text>\n",
       "<polyline fill=\"none\" stroke=\"black\" points=\"426,-28.5 426,-64.5 \"/>\n",
       "<text text-anchor=\"middle\" x=\"467\" y=\"-42.8\" font-family=\"Times New Roman,serif\" font-size=\"14.00\">grad 0.0000</text>\n",
       "</g>\n",
       "<!-- 2863443589056&#45;&gt;2863443588912+ -->\n",
       "<g id=\"edge4\" class=\"edge\">\n",
       "<title>2863443589056&#45;&gt;2863443588912+</title>\n",
       "<path fill=\"none\" stroke=\"black\" d=\"M508.4,-62.91C517.69,-64.5 526.64,-66.04 534.71,-67.43\"/>\n",
       "<polygon fill=\"black\" stroke=\"black\" points=\"534.32,-70.91 544.76,-69.16 535.5,-64.02 534.32,-70.91\"/>\n",
       "</g>\n",
       "</g>\n",
       "</svg>\n"
      ],
      "text/plain": [
       "<graphviz.graphs.Digraph at 0x29ab289bd00>"
      ]
     },
     "execution_count": 38,
     "metadata": {},
     "output_type": "execute_result"
    }
   ],
   "source": [
    "draw_dot(L)"
   ]
  },
  {
   "cell_type": "code",
   "execution_count": 39,
   "id": "5d35768a-49c4-416b-93d4-9c42eb753b12",
   "metadata": {},
   "outputs": [
    {
     "name": "stdout",
     "output_type": "stream",
     "text": [
      "-1.9999999999953388\n"
     ]
    }
   ],
   "source": [
    "# Compute derdef stage_variables():\n",
    "def stage_variables():\n",
    "    \n",
    "    h=0.0001\n",
    "    \n",
    "    a = Value(2.0, label='a') \n",
    "    b = Value(-3.0, label='b')\n",
    "    c = Value(10.0, label='c')\n",
    "    e = a*b; e.label = 'e'\n",
    "    d = e + c; d.label = 'd'\n",
    "    f = Value(-2.0, label='f')\n",
    "    L1 = d * f; L.label = 'L'\n",
    "    L1=L1.data\n",
    "    \n",
    "    a = Value(2.0, label='a')\n",
    "    b = Value(-3.0, label='b')\n",
    "    c = Value(10.0, label='c')\n",
    "    e = a*b; e.label = 'e'\n",
    "    d = e + c; d.label = 'd'\n",
    "    d.data +=h  # derivative in respect to d\n",
    "    f = Value(-2.0, label='f')\n",
    "    L2 = d * f; L.label = 'L'\n",
    "    L2=L2.data\n",
    "    \n",
    "    print((L2 - L1)/h) #The derivative\n",
    "stage_variables()"
   ]
  },
  {
   "cell_type": "code",
   "execution_count": null,
   "id": "4d5d8f6d-063d-4e47-bf48-c5c749485f96",
   "metadata": {},
   "outputs": [],
   "source": [
    "# Wow it's actually -2  .. incredible :|"
   ]
  },
  {
   "cell_type": "code",
   "execution_count": 116,
   "id": "ea47d201-db7e-4b22-ba3f-e00f8d715782",
   "metadata": {},
   "outputs": [],
   "source": [
    "# Ok next questions is at the core of backpropagation\n",
    "# how do we derive l in respect to c dl/dc ?"
   ]
  },
  {
   "cell_type": "code",
   "execution_count": 117,
   "id": "7fcaed96-2294-4085-8f8d-8322df8c7930",
   "metadata": {},
   "outputs": [],
   "source": [
    "#dd/dc\n",
    "\n",
    "#d = c + e \n",
    "\n",
    "#f(x+h) - f(x))/h(\n",
    "\n",
    "#((c+h+e) - (c+e))/h\n",
    "\n",
    "# h/h =1\n",
    "\n",
    "# dd/dc=dd/de=1"
   ]
  },
  {
   "cell_type": "code",
   "execution_count": 118,
   "id": "611a2dd1-2338-4c71-88f8-4414be9d7b30",
   "metadata": {},
   "outputs": [],
   "source": [
    "# So basically the plus node only knows the local influences of the local derivatives\n",
    "# Hence we use the chain rule in calculus : (https://en.wikipedia.org/wiki/Chain_rule)\n",
    "# Can be extremely confusing but basically: if a car travels twice as fast as a bicycle and the bicycle is four times as fast as walking then the care is 2x4=8 as fast as walking\n",
    "# Basically the chain rule says: multiply previous gradients\n",
    "# I know I know : calculus seems easy (This is just the surface)"
   ]
  },
  {
   "cell_type": "code",
   "execution_count": null,
   "id": "89670385-7475-45a2-abeb-2a3d1802297f",
   "metadata": {},
   "outputs": [],
   "source": [
    "#Hence, dL/dc = dL/dd* dd/dc (Chain Rule)\n",
    "## Known\n",
    "#dL/dd=-2\n",
    "#dd/dc=1\n",
    "\n",
    "#Finally : dL/dc = -2"
   ]
  },
  {
   "cell_type": "code",
   "execution_count": 40,
   "id": "62833bf3-fa63-4c49-97e4-d0042dab3686",
   "metadata": {},
   "outputs": [],
   "source": [
    "c.grad=-2"
   ]
  },
  {
   "cell_type": "code",
   "execution_count": 120,
   "id": "50002acc-e2ff-45ca-90b1-ae9a73c64a48",
   "metadata": {},
   "outputs": [],
   "source": [
    "# We can verify this with the mathematical formula"
   ]
  },
  {
   "cell_type": "code",
   "execution_count": 41,
   "id": "80bf77e5-0cfc-4cb9-88b3-3d684557a579",
   "metadata": {},
   "outputs": [
    {
     "name": "stdout",
     "output_type": "stream",
     "text": [
      "-1.9999999999953388\n"
     ]
    }
   ],
   "source": [
    "# Compute derdef stage_variables():\n",
    "def stage_variables():\n",
    "    \n",
    "    h=0.0001\n",
    "    \n",
    "    a = Value(2.0, label='a') \n",
    "    b = Value(-3.0, label='b')\n",
    "    c = Value(10.0, label='c')\n",
    "    e = a*b; e.label = 'e'\n",
    "    d = e + c; d.label = 'd'\n",
    "    f = Value(-2.0, label='f')\n",
    "    L1 = d * f; L.label = 'L'\n",
    "    L1=L1.data\n",
    "    \n",
    "    a = Value(2.0, label='a')\n",
    "    b = Value(-3.0, label='b')\n",
    "    c = Value(10.0, label='c')\n",
    "    c.data +=h # Derivative in respect to h\n",
    "    e = a*b; e.label = 'e'\n",
    "    d = e + c; d.label = 'd'\n",
    "    f = Value(-2.0, label='f')\n",
    "    L2 = d * f; L.label = 'L'\n",
    "    L2=L2.data\n",
    "    \n",
    "    print((L2 - L1)/h) #The derivative\n",
    "stage_variables()"
   ]
  },
  {
   "cell_type": "code",
   "execution_count": null,
   "id": "13b89c6f-4b5d-4fda-80b7-22e70689ce66",
   "metadata": {},
   "outputs": [],
   "source": [
    "# Vuala"
   ]
  },
  {
   "cell_type": "code",
   "execution_count": null,
   "id": "1f544cc0-6fc5-4a00-ae19-20c9788c5ebe",
   "metadata": {},
   "outputs": [],
   "source": [
    "# Rinse and repeat and you computed the whole gradients"
   ]
  },
  {
   "cell_type": "code",
   "execution_count": null,
   "id": "0a5ba185-4689-4f8b-a4d6-594a04f7f123",
   "metadata": {},
   "outputs": [],
   "source": [
    "# Gradients represent the rate of change"
   ]
  },
  {
   "cell_type": "code",
   "execution_count": null,
   "id": "79763bcb-6f31-4d42-8666-00a5d5962a97",
   "metadata": {},
   "outputs": [],
   "source": [
    "# Substracting the gradients from the W matrix gives as a nn with a lower loss"
   ]
  },
  {
   "cell_type": "code",
   "execution_count": null,
   "id": "5bd6a239-7301-427e-b7e9-1120b72c7b12",
   "metadata": {},
   "outputs": [],
   "source": [
    "# This is the magic sauce behind everything deep learning"
   ]
  },
  {
   "cell_type": "code",
   "execution_count": null,
   "id": "80a86cb8-e2e2-451b-8e7a-34c87b02d795",
   "metadata": {},
   "outputs": [],
   "source": [
    "# If you got this far you are awesome\n",
    "\n",
    "# Thanks"
   ]
  }
 ],
 "metadata": {
  "kernelspec": {
   "display_name": "Python 3 (ipykernel)",
   "language": "python",
   "name": "python3"
  },
  "language_info": {
   "codemirror_mode": {
    "name": "ipython",
    "version": 3
   },
   "file_extension": ".py",
   "mimetype": "text/x-python",
   "name": "python",
   "nbconvert_exporter": "python",
   "pygments_lexer": "ipython3",
   "version": "3.8.18"
  }
 },
 "nbformat": 4,
 "nbformat_minor": 5
}
